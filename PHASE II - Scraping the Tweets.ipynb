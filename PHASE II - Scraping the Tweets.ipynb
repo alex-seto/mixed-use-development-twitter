{
 "cells": [
  {
   "cell_type": "markdown",
   "metadata": {},
   "source": [
    "# PHASE II, Scraping Tweets\n",
    "\n",
    "This notebook is used to assemble the tweets using GetOldTweets3 model. Responsible for producing the 'final_tweets.xlsx' dataset."
   ]
  },
  {
   "cell_type": "code",
   "execution_count": null,
   "metadata": {},
   "outputs": [],
   "source": [
    "import numpy as np\n",
    "import pandas as pd\n",
    "import GetOldTweets3 as got\n",
    "all_tweets = pd.DataFrame()"
   ]
  },
  {
   "cell_type": "markdown",
   "metadata": {},
   "source": [
    "# The first set of tweets collected are for developments which dont need extra specifications of their query (no location, etc)"
   ]
  },
  {
   "cell_type": "code",
   "execution_count": null,
   "metadata": {
    "scrolled": true
   },
   "outputs": [],
   "source": [
    "terms = [['Transbay'],\n",
    "         ['SoFi Stadium'],\n",
    "         ['Treasure Island'],\n",
    "         ['Port Covington'],\n",
    "         ['Parkmerced'],\n",
    "         ['Belmont Park', 'Belmont Park Arena'],\n",
    "         ['Lincoln Yards'],\n",
    "         ['Capitol Crossing'],\n",
    "         ['Candlestick', 'Candlestick Point'],\n",
    "         ['Allston Yards'],\n",
    "         [\"Giambrocco\"],\n",
    "         [\"2110 Bay\"],\n",
    "         [\"Southern Post\"],\n",
    "         [\"Commerce Point\"],\n",
    "         [\"Burnham Place\"],\n",
    "         [\"Reeves Creek\"],\n",
    "         [\"Perimeter Center East\"],\n",
    "         [\"Millenium Place\"],\n",
    "         [\"Centennial Yards\", \"The Gulch\"],\n",
    "         [\"Miami World Center\"],\n",
    "         [\"Pacific Park\", \"Atlantic Yards\"],   \n",
    "         [\"Riverside South\"],\n",
    "         [\"Jodeco 158\", \"Bridges at Jodeco\"]\n",
    "        ]\n",
    "\n",
    "for term_tup in terms:\n",
    "    temp = []\n",
    "    for term in term_tup:\n",
    "        search_terms = ['\"' + term + '\" development', \n",
    "                        '\"' + term + '\" project', \n",
    "                        '\"' + term + '\" construction', \n",
    "                        '\"' + term + '\" approval']\n",
    "        for search_term in search_terms:\n",
    "            tweetCriteria = got.manager.TweetCriteria().setQuerySearch(search_term)\n",
    "            tweets = got.manager.TweetManager.getTweets(tweetCriteria)\n",
    "            for tweet in tweets:\n",
    "                temp.append(tweet.permalink)\n",
    "    temp_df = pd.DataFrame({term_tup[0]:pd.Series(temp).unique()})\n",
    "    all_tweets = pd.concat([all_tweets, temp_df], axis = 1)\n",
    "    all_tweets.to_excel(\"final_tweets.xlsx\")"
   ]
  },
  {
   "cell_type": "markdown",
   "metadata": {},
   "source": [
    "# Alternative Queries"
   ]
  },
  {
   "cell_type": "markdown",
   "metadata": {},
   "source": [
    "One Congress, Boston / Bulfinch Crossing"
   ]
  },
  {
   "cell_type": "code",
   "execution_count": null,
   "metadata": {},
   "outputs": [],
   "source": [
    "onecongress_terms = [\n",
    "    '\"One Congress\" Boston development',\n",
    "    '\"One Congress\" Boston project', \n",
    "    '\"One Congress\" Boston construction',\n",
    "    '\"One Congress\" Boston approval',\n",
    "    '\"Bulfinch Crossing\" development',\n",
    "    '\"Bulfinch Crossing\" project', \n",
    "    '\"Bulfinch Crossing\" construction',\n",
    "    '\"Bulfinch Crossing\" approval',\n",
    "]"
   ]
  },
  {
   "cell_type": "code",
   "execution_count": null,
   "metadata": {},
   "outputs": [],
   "source": [
    "temp = []\n",
    "for term in onecongress_terms:\n",
    "    tweetCriteria = got.manager.TweetCriteria().setQuerySearch(term)\n",
    "    tweets = got.manager.TweetManager.getTweets(tweetCriteria)\n",
    "    for tweet in tweets:\n",
    "        temp.append(tweet.permalink)\n",
    "temp_df = pd.DataFrame({\"One Congress, Boston\" : pd.Series(temp).unique()})\n",
    "all_tweets = pd.concat([all_tweets, temp_df], axis = 1)"
   ]
  },
  {
   "cell_type": "markdown",
   "metadata": {},
   "source": [
    "Washington Terrace and Hudson Yards (redevelopments)"
   ]
  },
  {
   "cell_type": "code",
   "execution_count": null,
   "metadata": {},
   "outputs": [],
   "source": [
    "terms = ['Washington Terrace', 'Hudson Yards']\n",
    "for i in range(2):\n",
    "    term = terms[i]\n",
    "    search_terms = ['\"' + term + '\" construction', '\"' + term + '\" approval', '\"' + term + '\" redevelopment']\n",
    "    for search_term in search_terms:\n",
    "        tweetCriteria = got.manager.TweetCriteria().setQuerySearch(search_term)\n",
    "        tweets = got.manager.TweetManager.getTweets(tweetCriteria)\n",
    "        for tweet in tweets:\n",
    "            temp.append(tweet.permalink)\n",
    "    temp_df = pd.DataFrame({term:pd.Series(temp).unique()})\n",
    "    all_tweets = pd.concat([all_tweets, temp_df], axis = 1)\n",
    "    all_tweets.to_excel(\"final_tweets.xlsx\")"
   ]
  },
  {
   "cell_type": "markdown",
   "metadata": {},
   "source": [
    "Bankside (Bronx), Midtown West (Detroit), La Central (Bronx)"
   ]
  },
  {
   "cell_type": "code",
   "execution_count": null,
   "metadata": {},
   "outputs": [],
   "source": [
    "terms = ['Bankside Bronx', '\"Midtown West\" Detroit', '\"La Central\" Bronx']\n",
    "for term in terms:\n",
    "    search_terms = [term + \" development\", term + ' project', term + ' construction', term + 'approval']\n",
    "    temp1 = []\n",
    "    for search_term in search_terms:\n",
    "        tweetCriteria = got.manager.TweetCriteria().setQuerySearch(search_term)\n",
    "        tweets = got.manager.TweetManager.getTweets(tweetCriteria)\n",
    "        for tweet in tweets:\n",
    "            temp1.append(tweet.permalink)\n",
    "    temp_df = pd.DataFrame({term:pd.Series(temp1).unique()})\n",
    "    all_tweets = pd.concat([all_tweets, temp_df], axis = 1)\n",
    "    all_tweets.to_excel(\"final_tweets.xlsx\")\n"
   ]
  }
 ],
 "metadata": {
  "kernelspec": {
   "display_name": "Python 3",
   "language": "python",
   "name": "python3"
  },
  "language_info": {
   "codemirror_mode": {
    "name": "ipython",
    "version": 3
   },
   "file_extension": ".py",
   "mimetype": "text/x-python",
   "name": "python",
   "nbconvert_exporter": "python",
   "pygments_lexer": "ipython3",
   "version": "3.7.6"
  }
 },
 "nbformat": 4,
 "nbformat_minor": 4
}
